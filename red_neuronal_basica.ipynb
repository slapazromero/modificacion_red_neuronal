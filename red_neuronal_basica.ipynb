{
  "nbformat": 4,
  "nbformat_minor": 0,
  "metadata": {
    "colab": {
      "provenance": [],
      "authorship_tag": "ABX9TyO5Zo5kgQO6M5lwSMTzgFB7",
      "include_colab_link": true
    },
    "kernelspec": {
      "name": "python3",
      "display_name": "Python 3"
    },
    "language_info": {
      "name": "python"
    }
  },
  "cells": [
    {
      "cell_type": "markdown",
      "metadata": {
        "id": "view-in-github",
        "colab_type": "text"
      },
      "source": [
        "<a href=\"https://colab.research.google.com/github/slapazromero/modificacion_red_neuronal/blob/main/red_neuronal_basica.ipynb\" target=\"_parent\"><img src=\"https://colab.research.google.com/assets/colab-badge.svg\" alt=\"Open In Colab\"/></a>"
      ]
    },
    {
      "cell_type": "code",
      "execution_count": null,
      "metadata": {
        "id": "a4ndKMw9l272"
      },
      "outputs": [],
      "source": [
        "import numpy as np\n",
        "import math"
      ]
    },
    {
      "cell_type": "markdown",
      "source": [
        "# Implementación de la red neuronal con retropropagación"
      ],
      "metadata": {
        "id": "GgxPYawHone4"
      }
    },
    {
      "cell_type": "code",
      "source": [
        "class NetNode(object):\n",
        "\n",
        "  def __init__(self):\n",
        "    self.inputs = []\n",
        "    self.weights = []\n",
        "    self.value = None"
      ],
      "metadata": {
        "id": "ayEcEwKcl_9H"
      },
      "execution_count": null,
      "outputs": []
    },
    {
      "cell_type": "code",
      "source": [
        "class Network(object):\n",
        "\n",
        "  def __init__(self, layers):\n",
        "    self.net = [[NetNode() for _ in range(size)] for size in layers]\n",
        "    sizes = len(layers)\n",
        "    for layer in range(1, sizes):\n",
        "        for node in self.net[layer]:\n",
        "            for unit in self.net[layer - 1]:\n",
        "                node.inputs.append(unit)\n",
        "                node.weights.append(0)\n",
        "\n",
        "  def accuracy(self, examples):\n",
        "    correct = 0\n",
        "    for x_test, y_test in examples:\n",
        "        prediction = self.predict(x_test)\n",
        "        if (y_test[prediction] == 1):\n",
        "            correct += 1\n",
        "    return correct / len(examples)\n",
        "\n",
        "  def backpropagation(self, eta, examples, epochs):\n",
        "    inputs = self.net[0]\n",
        "    outputs = self.net[-1]\n",
        "    layer_size = len(self.net)\n",
        "    for layer in self.net[1:]:\n",
        "        for node in layer:\n",
        "            node.weights = [np.random.uniform() for _ in range(len(node.weights))]\n",
        "    for epoch in range(epochs):\n",
        "        for x_train, y_train in examples:\n",
        "            for value, node in zip(x_train, inputs):\n",
        "                node.value = value\n",
        "            for layer in self.net[1:]:\n",
        "                for node in layer:\n",
        "                    in_val = [n.value for n in node.inputs]\n",
        "                    unit_value = np.dot(in_val, node.weights)\n",
        "                    node.value = self.relu(unit_value)\n",
        "            delta = [[] for _ in range(layer_size)]\n",
        "            err = [y_train[i] - outputs[i].value for i in range(len(outputs))]\n",
        "            delta[-1] = [self.relu_prime(outputs[i].value) * err[i] for i in range(len(outputs))]\n",
        "            hidden_layers = layer_size - 2\n",
        "            for i in range(hidden_layers, 0, -1):\n",
        "                layer = self.net[i]\n",
        "                n_layers = len(layer)\n",
        "                w = [[node.weights[l] for node in self.net[i + 1]] for l in range(n_layers)]\n",
        "                delta[i] = [self.relu_prime(layer[j].value) * np.dot(w[j], delta[i + 1]) for j in range(n_layers)]\n",
        "            for i in range(1, layer_size):\n",
        "                layer = self.net[i]\n",
        "                in_val = [node.value for node in self.net[i - 1]]\n",
        "                n_layers = len(self.net[i])\n",
        "                for j in range(n_layers):\n",
        "                    layer[j].weights = np.add(layer[j].weights, np.multiply(eta * delta[i][j], in_val))\n",
        "        print(f\"epoch {epoch}/{epochs} | total error={np.sum(err)/len(examples)}\")\n",
        "  \n",
        "  def predict(self, input_data):\n",
        "    inputs = self.net[0]\n",
        "    for v, n in zip(input_data, inputs):\n",
        "        n.value = v\n",
        "    for layer in self.net[1:]:\n",
        "        for node in layer:\n",
        "            in_val = [n.value for n in node.inputs]\n",
        "            unit_value = np.dot(in_val, node.weights)\n",
        "            node.value = self.relu(unit_value)\n",
        "    outputs = self.net[-1]\n",
        "    return outputs.index(max(outputs, key=lambda node: node.value))\n",
        "\n",
        "  def relu(self, z):\n",
        "    return max(0, z)\n",
        "\n",
        "  def relu_prime(self, z):\n",
        "    return 1 if z > 0 else 0\n",
        "\n",
        "  def sigmoide(self, z):\n",
        "    return 1 / (1 + math.exp(-z))\n",
        "\n",
        "  def sigmoide_prime(self, z):\n",
        "    return self.sigmoide(z) * (1 - self.sigmoide(z))\n",
        "    \n",
        "  def set_weights(self, weigths):\n",
        "    start = 0\n",
        "    end = 0\n",
        "    if isinstance(weigths[0], list):\n",
        "      for i in self.net[1:]:\n",
        "        end += len(i)\n",
        "        for j, z in zip(i, weigths[start:end]):\n",
        "          j.weights = z\n",
        "        start += len(i)\n",
        "    else:\n",
        "      for i in self.net[1:]:\n",
        "        end += len(i)\n",
        "        for j, z in zip(i, weigths[start:end]):\n",
        "          for w in range(len(j.weights)):\n",
        "            j.weights[w] = z\n",
        "        start += len(i)\n",
        "\n",
        "  def weights(self):\n",
        "    co = 0\n",
        "    for i in self.net:\n",
        "      for j in i:\n",
        "        co += 1\n",
        "        print(f'Pesos de la neurona {co}: {j.weights}')"
      ],
      "metadata": {
        "id": "c76uCuQsmC3B"
      },
      "execution_count": null,
      "outputs": []
    },
    {
      "cell_type": "code",
      "source": [
        "net = Network([4, 7, 3])"
      ],
      "metadata": {
        "id": "c3xRFrqvfwkh"
      },
      "execution_count": null,
      "outputs": []
    },
    {
      "cell_type": "code",
      "source": [
        "net = Network([3, 4, 2])"
      ],
      "metadata": {
        "id": "WXCGRAJpc6Wd"
      },
      "execution_count": null,
      "outputs": []
    },
    {
      "cell_type": "code",
      "source": [
        "net.sigmoide(0.5)"
      ],
      "metadata": {
        "colab": {
          "base_uri": "https://localhost:8080/"
        },
        "id": "U4sjN_igqSZh",
        "outputId": "f0e0fdda-1349-4e25-9877-29fef843d78c"
      },
      "execution_count": null,
      "outputs": [
        {
          "output_type": "execute_result",
          "data": {
            "text/plain": [
              "0.6224593312018546"
            ]
          },
          "metadata": {},
          "execution_count": 85
        }
      ]
    },
    {
      "cell_type": "code",
      "source": [
        "net.set_weights([0.1, 0.2, 0.3, 0.4, 0.5, 0.6])"
      ],
      "metadata": {
        "id": "LguD3nfck6AK"
      },
      "execution_count": null,
      "outputs": []
    },
    {
      "cell_type": "code",
      "source": [
        "net.set_weights([[0.1, 0.1, 0.1], [0.2, 0.2, 0.2], [0.3, 0.3, 0.3], [0.4, 0.4, 0.4], [0.5, 0.5, 0.5, 0.5], [0.6, 0.6, 0.6, 0.6]])"
      ],
      "metadata": {
        "id": "ttOV_VM6k_dE"
      },
      "execution_count": null,
      "outputs": []
    },
    {
      "cell_type": "code",
      "source": [
        "net.weights()"
      ],
      "metadata": {
        "id": "qKm2ES7jf2C_",
        "colab": {
          "base_uri": "https://localhost:8080/"
        },
        "outputId": "9fd22b83-49a2-4d5e-864e-6c154eff7359"
      },
      "execution_count": null,
      "outputs": [
        {
          "output_type": "stream",
          "name": "stdout",
          "text": [
            "Pesos de la neurona 1: []\n",
            "Pesos de la neurona 2: []\n",
            "Pesos de la neurona 3: []\n",
            "Pesos de la neurona 4: [0.1, 0.1, 0.1]\n",
            "Pesos de la neurona 5: [0.2, 0.2, 0.2]\n",
            "Pesos de la neurona 6: [0.3, 0.3, 0.3]\n",
            "Pesos de la neurona 7: [0.4, 0.4, 0.4]\n",
            "Pesos de la neurona 8: [0.5, 0.5, 0.5, 0.5]\n",
            "Pesos de la neurona 9: [0.6, 0.6, 0.6, 0.6]\n"
          ]
        }
      ]
    },
    {
      "cell_type": "markdown",
      "source": [
        "# Modificación de la implementación de la red neuronal"
      ],
      "metadata": {
        "id": "M8-mcDfFprEy"
      }
    },
    {
      "cell_type": "code",
      "source": [
        "# agrega los métodos sigmoide() y sigmoide_prime() a la clase Network\n",
        "# modifica la clase Network, para que se pueda decidir qué función de activación utilizar: relu() o sigmoide()"
      ],
      "metadata": {
        "id": "Yg3ScNjfq_ot"
      },
      "execution_count": null,
      "outputs": []
    },
    {
      "cell_type": "code",
      "source": [
        "# los métodos predict() y accuracy() de la clase Network están implementados para resolver problemas de clasificación\n",
        "# modifícalos de tal manera que también se puedan utilizar con problemas de regresión"
      ],
      "metadata": {
        "id": "XUYfTnwwtAP3"
      },
      "execution_count": null,
      "outputs": []
    },
    {
      "cell_type": "code",
      "source": [
        "# modifica el método backpropagation() de tal manera que devuelva como resultado el array de valores de los nodos durante las épocas de entrenamiento"
      ],
      "metadata": {
        "id": "_jcNyPgK0Jdm"
      },
      "execution_count": null,
      "outputs": []
    },
    {
      "cell_type": "code",
      "source": [
        "# una vez implementados los cambios, entrena la red neuronal del ejemplo de los apuntes\n",
        "examples = []\n",
        "examples.append([[0.5, 0.67, 0.5], [0.25, 0.6]])"
      ],
      "metadata": {
        "id": "ROQGXdl8uNXc"
      },
      "execution_count": null,
      "outputs": []
    },
    {
      "cell_type": "code",
      "source": [
        "# ejecuta la red neuronal para los datos de ejemplo de los apuntes\n",
        "# comprueba los valores de los nodos y de los pesos\n",
        "# los valores de los nodos tienen que ser los mismos que los de los apuntes\n",
        "# los valores de los pesos son ligeramente diferentes, ¿por qué?\n",
        "\n",
        "net = Network([3, 4, 2])\n",
        "\n",
        "net.set_weights([0.1, 0.2, 0.3, 0.4, 0.5, 0.6])\n",
        "# o\n",
        "net.set_weights([[0.1, 0.1, 0.1], [0.2, 0.2, 0.2], [0.3, 0.3, 0.3], [0.4, 0.4, 0.4], [0.5, 0.5, 0.5, 0.5], [0.6, 0.6, 0.6, 0.6]])\n",
        "\n",
        "valores_nodos = net.backpropagation(0.9, examples, 1)\n",
        "\n",
        "print(valores_nodos)\n",
        "net.weights()"
      ],
      "metadata": {
        "id": "Q-0NYrsYu2nH"
      },
      "execution_count": null,
      "outputs": []
    },
    {
      "cell_type": "markdown",
      "source": [
        "# Usando la red neuronal con un dataset"
      ],
      "metadata": {
        "id": "qgFoGWrqoyGB"
      }
    },
    {
      "cell_type": "code",
      "source": [
        "from sklearn import datasets\n",
        "from sklearn.preprocessing import normalize\n",
        "from sklearn.model_selection import train_test_split\n",
        "from keras.utils import np_utils"
      ],
      "metadata": {
        "id": "fPng_kT1mhcp"
      },
      "execution_count": null,
      "outputs": []
    },
    {
      "cell_type": "code",
      "source": [
        "iris_X, iris_y = datasets.load_iris(return_X_y=True)"
      ],
      "metadata": {
        "id": "sFyU9RGtmluM"
      },
      "execution_count": null,
      "outputs": []
    },
    {
      "cell_type": "code",
      "source": [
        "iris_x_normalized = normalize(iris_X, axis=0)"
      ],
      "metadata": {
        "id": "IQpaMM6Bmq1n"
      },
      "execution_count": null,
      "outputs": []
    },
    {
      "cell_type": "code",
      "source": [
        "X_train, X_test, y_train, y_test = train_test_split(iris_x_normalized, iris_y, test_size=0.2, shuffle=True)"
      ],
      "metadata": {
        "id": "OjQkFVwmmuGg"
      },
      "execution_count": null,
      "outputs": []
    },
    {
      "cell_type": "code",
      "source": [
        "y_train = np_utils.to_categorical(y_train, num_classes=3)\n",
        "y_test = np_utils.to_categorical(y_test, num_classes=3)"
      ],
      "metadata": {
        "id": "wvkyhxJTmyWo"
      },
      "execution_count": null,
      "outputs": []
    },
    {
      "cell_type": "code",
      "source": [
        "examples = []\n",
        "for i in range(len(X_train)):\n",
        "    examples.append([X_train[i], y_train[i]])"
      ],
      "metadata": {
        "id": "-ZlXfw4xm2Ih"
      },
      "execution_count": null,
      "outputs": []
    },
    {
      "cell_type": "code",
      "source": [
        "net = Network([4, 7, 3])\n",
        "net.backpropagation(0.1, examples, 500)"
      ],
      "metadata": {
        "id": "x9YqtPo7m5Vq"
      },
      "execution_count": null,
      "outputs": []
    },
    {
      "cell_type": "code",
      "source": [
        "#precisión alcanzada con los datos de entrenamiento\n",
        "accuracy = net.accuracy(examples)\n",
        "print(f\"Accuracy: {accuracy}\")"
      ],
      "metadata": {
        "id": "FLxCnkvMm9Kp",
        "colab": {
          "base_uri": "https://localhost:8080/"
        },
        "outputId": "3f23bed3-e6ef-4555-adc4-0d1ca919247e"
      },
      "execution_count": null,
      "outputs": [
        {
          "output_type": "stream",
          "name": "stdout",
          "text": [
            "Accuracy: 0.975\n"
          ]
        }
      ]
    },
    {
      "cell_type": "code",
      "source": [
        "#precisión alcanzada con los datos de prueba\n",
        "examples = []\n",
        "for i in range(len(X_test)):\n",
        "    examples.append([X_test[i], y_test[i]])\n",
        "accuracy = net.accuracy(examples)\n",
        "print(f\"Accuracy: {accuracy}\")"
      ],
      "metadata": {
        "id": "35AyCvCmm_96",
        "colab": {
          "base_uri": "https://localhost:8080/"
        },
        "outputId": "3533992f-6e19-403e-8d4e-2cefd3b7cfe9"
      },
      "execution_count": null,
      "outputs": [
        {
          "output_type": "stream",
          "name": "stdout",
          "text": [
            "Accuracy: 0.9666666666666667\n"
          ]
        }
      ]
    },
    {
      "cell_type": "code",
      "source": [
        "#probando con un dato\n",
        "prediction = net.predict(X_test[2])\n",
        "print(f\"Desired output: {y_test[2]}\")\n",
        "print(f\"Index of output: {prediction}\")"
      ],
      "metadata": {
        "colab": {
          "base_uri": "https://localhost:8080/"
        },
        "id": "jGMT3cV2ocL2",
        "outputId": "ae7e903d-4d0a-4747-8e8b-e5bcd3f2312d"
      },
      "execution_count": null,
      "outputs": [
        {
          "output_type": "stream",
          "name": "stdout",
          "text": [
            "Desired output: [0. 0. 1.]\n",
            "Index of output: 2\n"
          ]
        }
      ]
    }
  ]
}